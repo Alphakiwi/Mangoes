{
 "cells": [
  {
   "cell_type": "markdown",
   "metadata": {},
   "source": [
    "# MANGOES WIKIPEDIA\n"
   ]
  },
  {
   "cell_type": "code",
   "execution_count": 1,
   "metadata": {
    "collapsed": true
   },
   "outputs": [],
   "source": [
    "import mangoes\n",
    "from scipy.spatial.distance import cosine\n",
    "import mangoes.visualize\n",
    "from IPython.display import display\n",
    "import mangoes.counting"
   ]
  },
  {
   "cell_type": "code",
   "execution_count": 2,
   "metadata": {
    "collapsed": true
   },
   "outputs": [],
   "source": [
    "\n",
    "\n",
    "#load pre-trained embeddings\n",
    "#path2embeddings = \"ppmi_svd_1500words_win2/\"\n",
    "path2embeddings = \"ppmi_svd_en_dim500_win2_shift1_cds0.75_eig0/\"\n",
    "embedding = mangoes.Embeddings.load(path2embeddings)\n",
    "embeddingWiki = embedding"
   ]
  },
  {
   "cell_type": "markdown",
   "metadata": {},
   "source": [
    "# Tests statistiques"
   ]
  },
  {
   "cell_type": "code",
   "execution_count": 86,
   "metadata": {},
   "outputs": [
    {
     "name": "stdout",
     "output_type": "stream",
     "text": [
      "\n",
      "                                                            Nb questions      cosadd      cosmul\n",
      "================================================================================================\n",
      "Google                                                           6/19544      83.33%      83.33%\n",
      "------------------------------------------------------------------------------------------------\n",
      "\n"
     ]
    }
   ],
   "source": [
    "import mangoes.evaluation.analogy\n",
    "analogy_evaluation = mangoes.evaluation.analogy.Evaluation(embeddingWiki, mangoes.evaluation.analogy.GOOGLE)\n",
    "print(analogy_evaluation.get_report())"
   ]
  },
  {
   "cell_type": "code",
   "execution_count": 3,
   "metadata": {},
   "outputs": [
    {
     "name": "stdout",
     "output_type": "stream",
     "text": [
      "\n",
      "                                                                          pearson       spearman\n",
      "                                                      Nb questions        (p-val)        (p-val)\n",
      "================================================================================================\n",
      "WS353                                                      353/353   0.625(1e-39)   0.682(1e-49)\n",
      "------------------------------------------------------------------------------------------------\n",
      "WS353 relatedness                                          252/252   0.554(1e-21)   0.604(2e-26)\n",
      "------------------------------------------------------------------------------------------------\n",
      "WS353 similarity                                           203/203   0.747(2e-37)   0.762(8e-40)\n",
      "------------------------------------------------------------------------------------------------\n",
      "MEN                                                      3000/3000     0.7(0e+00)   0.737(0e+00)\n",
      "------------------------------------------------------------------------------------------------\n",
      "M. Turk                                                    286/287   0.652(6e-36)   0.598(4e-29)\n",
      "------------------------------------------------------------------------------------------------\n",
      "Rareword                                                 1339/2034   0.439(3e-64)   0.485(7e-80)\n",
      "------------------------------------------------------------------------------------------------\n",
      "RG65                                                         65/65   0.781(2e-14)   0.807(5e-16)\n",
      "------------------------------------------------------------------------------------------------\n",
      "\n"
     ]
    }
   ],
   "source": [
    "import mangoes.evaluation.similarity\n",
    "ws_evaluation = mangoes.evaluation.similarity.Evaluation(embedding, *mangoes.evaluation.similarity.ALL_DATASETS)\n",
    "print(ws_evaluation.get_report()) # doctest: +NORMALIZE_WHITESPACE"
   ]
  },
  {
   "cell_type": "code",
   "execution_count": 88,
   "metadata": {},
   "outputs": [
    {
     "name": "stdout",
     "output_type": "stream",
     "text": [
      "\n",
      "                                                            Nb questions         OPP    accuracy\n",
      "================================================================================================\n",
      "8-8-8                                                              37/64      96.10%      83.78%\n",
      "------------------------------------------------------------------------------------------------\n",
      "wiki-sem-500                                                    147/2812      94.10%      79.59%\n",
      "                                                (including 2 duplicates)\n",
      "------------------------------------------------------------------------------------------------\n",
      "\n"
     ]
    }
   ],
   "source": [
    "import mangoes.evaluation.outlier\n",
    "outlier_evaluation = mangoes.evaluation.outlier.Evaluation(embeddingWiki, *mangoes.evaluation.outlier.ALL_DATASETS)\n",
    "print(outlier_evaluation.get_report())"
   ]
  },
  {
   "cell_type": "markdown",
   "metadata": {},
   "source": [
    "## Les 10 mots les plus proches de 'memory', 'learning', 'knowledge', 'association','language'"
   ]
  },
  {
   "cell_type": "code",
   "execution_count": 41,
   "metadata": {
    "collapsed": true
   },
   "outputs": [],
   "source": [
    "def kclosestwords(lemma, k=10, embedding = embedding):\n",
    "    try:\n",
    "        print( \"Les %s mots les plus proches du mot '%s' sont:\" %(k,lemma), embedding.get_closest_words(lemma, k) )\n",
    "    except KeyError:\n",
    "        print(\"Désolé '%s' n'est pas dans le vocabulaire.\" %lemma)\n",
    "    print(\"\\n\")\n",
    "    "
   ]
  },
  {
   "cell_type": "code",
   "execution_count": 82,
   "metadata": {},
   "outputs": [
    {
     "name": "stdout",
     "output_type": "stream",
     "text": [
      "Les 10 mots les plus proches du mot 'memory' sont: [('dram', 0.32099299171545681), ('sram', 0.3423317606898888), ('eeprom', 0.3468255782579085), ('onchip', 0.35426826601850969), ('chip', 0.36482050913775455), ('sdram', 0.37254854317055142), ('cpu', 0.37384128476988288), ('cache', 0.37612525925742446), ('ddr0', 0.38207445630738956), ('0mb', 0.38211726535635493)]\n",
      "\n",
      "\n",
      "Les 10 mots les plus proches du mot 'learning' sont: [('problemsolving', 0.38215221769521579), ('experiential', 0.40507544390414751), ('literacy', 0.40630629854344458), ('teaching', 0.42246691725992935), ('handson', 0.4389426252200529), ('learners', 0.46009644012779782), ('classroom', 0.46543069955754401), ('inquirybased', 0.46739942812526214), ('studentcentered', 0.47896782733146193), ('numeracy', 0.48093399603959175)]\n",
      "\n",
      "\n",
      "Les 10 mots les plus proches du mot 'knowledge' sont: [('understanding', 0.34682901762939677), ('expertise', 0.38782038869804247), ('knowhow', 0.42854822502296086), ('skills', 0.4653981532039726), ('insight', 0.48319920600703437), ('insights', 0.48495774018875948), (\"knowledge'\", 0.52294047057563053), ('experience', 0.52530468472398906), ('intuition', 0.52850726620333188), ('intellect', 0.5312228613662644)]\n",
      "\n",
      "\n",
      "Les 10 mots les plus proches du mot 'association' sont: [('federation', 0.26718025976102899), ('associations', 0.28650181580386014), ('federations', 0.41671047161544417), (\"association's\", 0.44271308537874332), ('society', 0.45359421358703755), ('union', 0.45512867253180511), (\"association'\", 0.47380175679845593), ('soccer', 0.49845918026704528), ('volleyball', 0.50557715878545317), ('badminton', 0.50678886925371314)]\n",
      "\n",
      "\n",
      "Les 10 mots les plus proches du mot 'language' sont: [('languages', 0.092210763056705058), ('spoken', 0.1683797849582922), ('dialects', 0.17055456052177131), ('dialect', 0.18232655356211347), ('speakers', 0.18554706670637278), ('speak', 0.21036967345321989), ('speaking', 0.26535518772153877), ('fluent', 0.29862228880909236), ('vocabulary', 0.30137003455024869), ('fluently', 0.32111265347551088)]\n",
      "\n",
      "\n"
     ]
    }
   ],
   "source": [
    "kclosestwords(\"memory\", embedding = embeddingWiki)\n",
    "kclosestwords(\"learning\", embedding = embeddingWiki)\n",
    "kclosestwords(\"knowledge\", embedding = embeddingWiki)\n",
    "kclosestwords(\"association\", embedding = embeddingWiki)\n",
    "kclosestwords(\"language\", embedding = embeddingWiki)"
   ]
  },
  {
   "cell_type": "markdown",
   "metadata": {},
   "source": [
    "## La distance cosinus entre 'memory', 'learning', 'knowledge', 'language' et 'association'"
   ]
  },
  {
   "cell_type": "code",
   "execution_count": 42,
   "metadata": {
    "collapsed": true
   },
   "outputs": [],
   "source": [
    "\n",
    "# cosine distances\n",
    "\n",
    "def cosineDistances(w1,w2, embedding = embedding) :\n",
    "    vec1 = embedding[w1]\n",
    "    vec2 = embedding[w2]\n",
    "    print( \"La distance cosinus entre '%s'et '%s' vaut :\" %(w1,w2), cosine(vec1,vec2) )"
   ]
  },
  {
   "cell_type": "code",
   "execution_count": null,
   "metadata": {
    "collapsed": true
   },
   "outputs": [],
   "source": [
    "cosineDistances(\"memory\",\"association\", embedding = embeddingWiki)\n",
    "cosineDistances(\"memory\",\"learning\", embedding = embeddingWiki)\n",
    "cosineDistances(\"learning\",\"association\", embedding = embeddingWiki)\n",
    "cosineDistances(\"knowledge\",\"memory\", embedding = embeddingWiki)\n",
    "cosineDistances(\"knowledge\",\"learning\", embedding = embeddingWiki)\n",
    "cosineDistances(\"knowledge\",\"association\", embedding = embeddingWiki)\n",
    "\n",
    "\n",
    "cosineDistances(\"language\",\"association\", embedding = embeddingWiki)\n",
    "cosineDistances(\"language\",\"learning\", embedding = embeddingWiki)\n",
    "cosineDistances(\"language\",\"knowledge\", embedding = embeddingWiki)\n",
    "cosineDistances(\"language\",\"memory\", embedding = embeddingWiki)\n"
   ]
  },
  {
   "cell_type": "markdown",
   "metadata": {},
   "source": [
    "## Le contexte des mots 'memory', 'learning', 'knowledge', 'language' et 'association'"
   ]
  },
  {
   "cell_type": "code",
   "execution_count": 228,
   "metadata": {},
   "outputs": [
    {
     "name": "stdout",
     "output_type": "stream",
     "text": [
      "74943253 sentences, 1688624802 words\n"
     ]
    }
   ],
   "source": [
    "corpus = mangoes.Corpus('data')\n",
    "corpusWiki =corpus\n",
    "nbWord = corpus.size\n",
    "print(\"{} sentences, {} words\".format(corpus.nb_sentences, corpus.size))"
   ]
  },
  {
   "cell_type": "code",
   "execution_count": 229,
   "metadata": {},
   "outputs": [
    {
     "name": "stdout",
     "output_type": "stream",
     "text": [
      "82502\n",
      "81374\n",
      "80539\n",
      "111143\n",
      "283987\n"
     ]
    }
   ],
   "source": [
    "print(corpus.words_count[\"memory\"])\n",
    "print(corpus.words_count[\"association\"])\n",
    "print(corpus.words_count[\"learning\"])\n",
    "print(corpus.words_count[\"knowledge\"])\n",
    "print(corpus.words_count[\"language\"])"
   ]
  },
  {
   "cell_type": "code",
   "execution_count": 230,
   "metadata": {},
   "outputs": [
    {
     "name": "stdout",
     "output_type": "stream",
     "text": [
      "0.004885750813459863\n",
      "0.004818950894456896\n",
      "0.004769502372854523\n",
      "0.0065818647143144355\n",
      "0.016817649466219317\n"
     ]
    }
   ],
   "source": [
    "print(corpus.words_count[\"memory\"]*100/nbWord)\n",
    "print(corpus.words_count[\"association\"]*100/nbWord)\n",
    "print(corpus.words_count[\"learning\"]*100/nbWord)\n",
    "print(corpus.words_count[\"knowledge\"]*100/nbWord)\n",
    "print(corpus.words_count[\"language\"]*100/nbWord)"
   ]
  },
  {
   "cell_type": "code",
   "execution_count": 235,
   "metadata": {},
   "outputs": [
    {
     "name": "stdout",
     "output_type": "stream",
     "text": [
      "Mes mots : memory, association, learning, knowlegde, language\n"
     ]
    }
   ],
   "source": [
    "\n",
    "# Provide your own list of words to create a Vocabulary:\n",
    "my_words = mangoes.Vocabulary([\"memory\", \"association\", \"learning\", \"knowlegde\",\"language\"])\n",
    "print(\"Mes mots : {}\".format(\", \".join(my_words)))\n"
   ]
  },
  {
   "cell_type": "code",
   "execution_count": 236,
   "metadata": {
    "collapsed": true
   },
   "outputs": [],
   "source": [
    "simple_window = mangoes.context.Window(window_half_size=3)"
   ]
  },
  {
   "cell_type": "code",
   "execution_count": null,
   "metadata": {
    "collapsed": true
   },
   "outputs": [],
   "source": [
    "coocc_count_1 = mangoes.counting.count_cooccurrence(corpus,  \n",
    "                                                    my_words, \n",
    "                                                    context=simple_window)\n",
    "coocc_count_1.pprint(display=display)"
   ]
  },
  {
   "cell_type": "markdown",
   "metadata": {},
   "source": [
    "# MANGOES Behavioural processes"
   ]
  },
  {
   "cell_type": "code",
   "execution_count": 2,
   "metadata": {
    "collapsed": true
   },
   "outputs": [],
   "source": [
    "import string\n",
    "import nltk.corpus\n",
    "import mangoes.counting\n",
    "import mangoes.weighting, mangoes.reduction"
   ]
  },
  {
   "cell_type": "code",
   "execution_count": 225,
   "metadata": {
    "collapsed": true
   },
   "outputs": [],
   "source": [
    "corpus = mangoes.Corpus('../ter_text/behavproc')\n",
    "corpusBehav = corpus"
   ]
  },
  {
   "cell_type": "code",
   "execution_count": 4,
   "metadata": {},
   "outputs": [
    {
     "name": "stdout",
     "output_type": "stream",
     "text": [
      "1631756 sentences, 5501840 words\n"
     ]
    }
   ],
   "source": [
    "nbWord = corpus.size\n",
    "print(\"{} sentences, {} words\".format(corpus.nb_sentences, corpus.size))\n"
   ]
  },
  {
   "cell_type": "code",
   "execution_count": 7,
   "metadata": {},
   "outputs": [
    {
     "name": "stdout",
     "output_type": "stream",
     "text": [
      "1650\n",
      "537\n",
      "3224\n",
      "416\n",
      "219\n"
     ]
    }
   ],
   "source": [
    "print(corpus.words_count[\"memory\"])\n",
    "print(corpus.words_count[\"association\"])\n",
    "print(corpus.words_count[\"learning\"])\n",
    "print(corpus.words_count[\"knowledge\"])\n",
    "print(corpus.words_count[\"language\"])"
   ]
  },
  {
   "cell_type": "code",
   "execution_count": 8,
   "metadata": {},
   "outputs": [
    {
     "name": "stdout",
     "output_type": "stream",
     "text": [
      "0.02998996699286057\n",
      "0.009760371075858258\n",
      "0.05859857793029241\n",
      "0.00756110682971515\n",
      "0.003980486528143312\n"
     ]
    }
   ],
   "source": [
    "print(corpus.words_count[\"memory\"]*100/nbWord)\n",
    "print(corpus.words_count[\"association\"]*100/nbWord)\n",
    "print(corpus.words_count[\"learning\"]*100/nbWord)\n",
    "print(corpus.words_count[\"knowledge\"]*100/nbWord)\n",
    "print(corpus.words_count[\"language\"]*100/nbWord)"
   ]
  },
  {
   "cell_type": "code",
   "execution_count": 44,
   "metadata": {},
   "outputs": [
    {
     "name": "stdout",
     "output_type": "stream",
     "text": [
      "263079\n"
     ]
    }
   ],
   "source": [
    "vocabulary = corpus.create_vocabulary()\n",
    "print(len(vocabulary))"
   ]
  },
  {
   "cell_type": "code",
   "execution_count": 45,
   "metadata": {},
   "outputs": [
    {
     "name": "stdout",
     "output_type": "stream",
     "text": [
      "['the', 'of', 'and', 'in', 'to', 'a', 'that', 'was', 'were', 'for']\n"
     ]
    }
   ],
   "source": [
    "punctuation_filter = mangoes.corpus.remove_elements(string.punctuation)\n",
    "vocabulary_no_punct = corpus.create_vocabulary(filters=[punctuation_filter])\n",
    "print(vocabulary_no_punct[:10])"
   ]
  },
  {
   "cell_type": "code",
   "execution_count": 46,
   "metadata": {},
   "outputs": [
    {
     "name": "stdout",
     "output_type": "stream",
     "text": [
      "['.', 'The', ',', ').', ';', '()', 'In', 'et', '=', 'two']\n"
     ]
    }
   ],
   "source": [
    "stopwords_filter = mangoes.corpus.remove_elements(nltk.corpus.stopwords.words('english'))\n",
    "vocabulary_no_stopwords = corpus.create_vocabulary(filters=[stopwords_filter])\n",
    "print(vocabulary_no_stopwords[:10])"
   ]
  },
  {
   "cell_type": "code",
   "execution_count": 47,
   "metadata": {},
   "outputs": [
    {
     "name": "stdout",
     "output_type": "stream",
     "text": [
      "['two', 'one', 'de', 'may', 'time', 'This', 'also', 'al.,', 'A', 'different']\n"
     ]
    }
   ],
   "source": [
    "my_words_filter = mangoes.corpus.remove_elements(['The', ').', 'In', 'et'])\n",
    "my_vocabulary = corpus.create_vocabulary(filters=[punctuation_filter, stopwords_filter, my_words_filter])\n",
    "print(my_vocabulary[:10])"
   ]
  },
  {
   "cell_type": "code",
   "execution_count": 48,
   "metadata": {},
   "outputs": [
    {
     "name": "stdout",
     "output_type": "stream",
     "text": [
      "(263079, 263079)\n"
     ]
    }
   ],
   "source": [
    "counts_matrix = mangoes.counting.count_cooccurrence(corpus, vocabulary, vocabulary)\n",
    "print(counts_matrix.shape)"
   ]
  },
  {
   "cell_type": "code",
   "execution_count": 49,
   "metadata": {
    "collapsed": true
   },
   "outputs": [],
   "source": [
    "\n",
    "ppmi = mangoes.weighting.PPMI()\n",
    "svd = mangoes.reduction.SVD(dimensions=50)\n",
    "embedding = mangoes.create_representation(counts_matrix, weighting=ppmi, reduction=svd)\n",
    "embeddingBehav = embedding"
   ]
  },
  {
   "cell_type": "markdown",
   "metadata": {},
   "source": [
    "## Tests statistiques"
   ]
  },
  {
   "cell_type": "code",
   "execution_count": 24,
   "metadata": {},
   "outputs": [
    {
     "name": "stdout",
     "output_type": "stream",
     "text": [
      "\n",
      "                                                            Nb questions      cosadd      cosmul\n",
      "================================================================================================\n",
      "Google                                                        4148/19544       3.16%       2.94%\n",
      "------------------------------------------------------------------------------------------------\n",
      "\n"
     ]
    }
   ],
   "source": [
    "import mangoes.evaluation.analogy\n",
    "analogy_evaluation = mangoes.evaluation.analogy.Evaluation(embedding, mangoes.evaluation.analogy.GOOGLE)\n",
    "print(analogy_evaluation.get_report())"
   ]
  },
  {
   "cell_type": "code",
   "execution_count": 25,
   "metadata": {},
   "outputs": [
    {
     "name": "stdout",
     "output_type": "stream",
     "text": [
      "\n",
      "                                                                          pearson       spearman\n",
      "                                                      Nb questions        (p-val)        (p-val)\n",
      "================================================================================================\n",
      "WS353                                                      255/353   0.165(8e-03)   0.143(2e-02)\n",
      "------------------------------------------------------------------------------------------------\n",
      "WS353 relatedness                                          190/252   0.194(7e-03)   0.178(1e-02)\n",
      "------------------------------------------------------------------------------------------------\n",
      "WS353 similarity                                           150/203   0.147(7e-02)   0.129(1e-01)\n",
      "------------------------------------------------------------------------------------------------\n",
      "MEN                                                      1811/3000    0.12(3e-07)    0.11(3e-06)\n",
      "------------------------------------------------------------------------------------------------\n",
      "M. Turk                                                    105/287   0.186(6e-02)   0.165(9e-02)\n",
      "------------------------------------------------------------------------------------------------\n",
      "Rareword                                                  566/2034  0.0474(3e-01)   0.045(3e-01)\n",
      "------------------------------------------------------------------------------------------------\n",
      "RG65                                                         34/65   0.488(3e-03)   0.447(8e-03)\n",
      "------------------------------------------------------------------------------------------------\n",
      "\n"
     ]
    }
   ],
   "source": [
    "import mangoes.evaluation.similarity\n",
    "ws_evaluation = mangoes.evaluation.similarity.Evaluation(embedding, *mangoes.evaluation.similarity.ALL_DATASETS)\n",
    "print(ws_evaluation.get_report()) # doctest: +NORMALIZE_WHITESPACE"
   ]
  },
  {
   "cell_type": "code",
   "execution_count": 26,
   "metadata": {},
   "outputs": [
    {
     "name": "stdout",
     "output_type": "stream",
     "text": [
      "\n",
      "                                                            Nb questions         OPP    accuracy\n",
      "================================================================================================\n",
      "8-8-8                                                               0/64          NA          NA\n",
      "------------------------------------------------------------------------------------------------\n",
      "wiki-sem-500                                                      0/2812          NA          NA\n",
      "------------------------------------------------------------------------------------------------\n",
      "\n"
     ]
    }
   ],
   "source": [
    "import mangoes.evaluation.outlier\n",
    "outlier_evaluation = mangoes.evaluation.outlier.Evaluation(embedding, *mangoes.evaluation.outlier.ALL_DATASETS)\n",
    "print(outlier_evaluation.get_report())"
   ]
  },
  {
   "cell_type": "markdown",
   "metadata": {},
   "source": [
    "## Les 10 mots les plus proches de 'memory', 'learning', 'knowledge', 'association', 'language'\n"
   ]
  },
  {
   "cell_type": "code",
   "execution_count": 18,
   "metadata": {},
   "outputs": [
    {
     "name": "stdout",
     "output_type": "stream",
     "text": [
      "Les 10 mots les plus proches du mot 'memory' sont: [('learning', 0.0075171260853780231), ('timing', 0.019258744632371982), ('recognition', 0.027874934276029606), ('processing', 0.036436554661313347), ('motor', 0.046447187511298282), ('sensory', 0.048802523208929638), ('associative', 0.050529695455870827), ('spatial', 0.050826717330957338), ('brain', 0.050828484493084858), ('discrimination', 0.051308919759657123)]\n",
      "\n",
      "\n",
      "Les 10 mots les plus proches du mot 'learning' sont: [('memory', 0.0075171260853780231), ('recognition', 0.028209726889309339), ('timing', 0.028660081662230219), ('processing', 0.050140140188839721), ('visual', 0.05208962542250628), ('discrimination', 0.052450056394244715), ('sensory', 0.053681208061548857), ('spatial', 0.054914261493669958), ('motor', 0.055441365331337034), ('conditioning', 0.058037857364528267)]\n",
      "\n",
      "\n",
      "Les 10 mots les plus proches du mot 'knowledge' sont: [('understanding', 0.033962470538769218), ('explanation', 0.043783962198870929), ('constraints', 0.044326147537503524), ('properties', 0.04478291315525107), ('sense', 0.045408144175598908), ('assessment', 0.045721347026953296), ('representations', 0.046203664954886814), ('consequences', 0.048488226060243944), ('features', 0.049803778360057227), ('inhibition', 0.054570284983436967)]\n",
      "\n",
      "\n",
      "Les 10 mots les plus proches du mot 'association' sont: [('inhibition', 0.043208673604039571), ('input', 0.052003061141735474), ('action', 0.052300108104274323), ('event', 0.055662854236812942), ('path', 0.058037025358148364), ('stimulation', 0.058223600151393495), ('requirements', 0.058272603109432053), ('motivation', 0.06008585305223868), ('feedback', 0.060232934634150137), ('state', 0.06108991535997077)]\n",
      "\n",
      "\n",
      "Les 10 mots les plus proches du mot 'language' sont: [('encoding', 0.054494058447486227), ('assessment', 0.061982769298760232), ('patterning', 0.071468068630871739), ('motion', 0.071732074829565784), ('status', 0.071926679167916618), ('welfare', 0.071961274084822113), ('knowledge', 0.07543354551500947), ('allocation', 0.076998144222060305), ('identity', 0.077674920587726404), ('arousal', 0.079493238111328801)]\n",
      "\n",
      "\n"
     ]
    }
   ],
   "source": [
    "kclosestwords(\"memory\")\n",
    "kclosestwords(\"learning\")\n",
    "kclosestwords(\"knowledge\")\n",
    "kclosestwords(\"association\")\n",
    "kclosestwords(\"language\")"
   ]
  },
  {
   "cell_type": "markdown",
   "metadata": {},
   "source": [
    "## La distance cosinus entre 'memory', 'learning', 'knowledge', 'language' et 'association'"
   ]
  },
  {
   "cell_type": "code",
   "execution_count": 21,
   "metadata": {},
   "outputs": [
    {
     "name": "stdout",
     "output_type": "stream",
     "text": [
      "La distance cosinus entre 'memory'et 'association' vaut : 0.181711425698\n",
      "La distance cosinus entre 'memory'et 'learning' vaut : 0.00751712608538\n",
      "La distance cosinus entre 'learning'et 'association' vaut : 0.201282085622\n",
      "La distance cosinus entre 'knowledge'et 'memory' vaut : 0.171335510798\n",
      "La distance cosinus entre 'knowledge'et 'learning' vaut : 0.180909441407\n",
      "La distance cosinus entre 'knowledge'et 'association' vaut : 0.0832467533032\n",
      "La distance cosinus entre 'language'et 'association' vaut : 0.107287256395\n",
      "La distance cosinus entre 'language'et 'learning' vaut : 0.186155390304\n",
      "La distance cosinus entre 'language'et 'knowledge' vaut : 0.075433545515\n",
      "La distance cosinus entre 'language'et 'memory' vaut : 0.157795062751\n"
     ]
    }
   ],
   "source": [
    "cosineDistances(\"memory\",\"association\")\n",
    "cosineDistances(\"memory\",\"learning\")\n",
    "cosineDistances(\"learning\",\"association\")\n",
    "cosineDistances(\"knowledge\",\"memory\")\n",
    "cosineDistances(\"knowledge\",\"learning\")\n",
    "cosineDistances(\"knowledge\",\"association\")\n",
    "\n",
    "cosineDistances(\"language\",\"association\")\n",
    "cosineDistances(\"language\",\"learning\")\n",
    "cosineDistances(\"language\",\"knowledge\")\n",
    "cosineDistances(\"language\",\"memory\")\n",
    "\n"
   ]
  },
  {
   "cell_type": "markdown",
   "metadata": {},
   "source": [
    "## Le contexte des mots 'memory', 'learning', 'knowledge','language' et 'association'"
   ]
  },
  {
   "cell_type": "code",
   "execution_count": 22,
   "metadata": {},
   "outputs": [
    {
     "name": "stdout",
     "output_type": "stream",
     "text": [
      "Mes mots : memory, association, learning, knowlegde, language\n"
     ]
    }
   ],
   "source": [
    "\n",
    "# Provide your own list of words to create a Vocabulary:\n",
    "my_words = mangoes.Vocabulary([\"memory\", \"association\", \"learning\", \"knowlegde\",\"language\"])\n",
    "print(\"Mes mots : {}\".format(\", \".join(my_words)))\n",
    "simple_window = mangoes.context.Window(window_half_size=3)"
   ]
  },
  {
   "cell_type": "code",
   "execution_count": 23,
   "metadata": {},
   "outputs": [
    {
     "data": {
      "text/html": [
       "<div>\n",
       "<style>\n",
       "    .dataframe thead tr:only-child th {\n",
       "        text-align: right;\n",
       "    }\n",
       "\n",
       "    .dataframe thead th {\n",
       "        text-align: left;\n",
       "    }\n",
       "\n",
       "    .dataframe tbody tr th {\n",
       "        vertical-align: top;\n",
       "    }\n",
       "</style>\n",
       "<table border=\"1\" class=\"dataframe\">\n",
       "  <thead>\n",
       "    <tr style=\"text-align: right;\">\n",
       "      <th></th>\n",
       "      <th>changes</th>\n",
       "      <th>in</th>\n",
       "      <th>the</th>\n",
       "      <th>of</th>\n",
       "      <th>reinforced</th>\n",
       "      <th>times</th>\n",
       "      <th>common</th>\n",
       "      <th>with</th>\n",
       "      <th>for</th>\n",
       "      <th>duration</th>\n",
       "      <th>...</th>\n",
       "      <th>techniques,</th>\n",
       "      <th>developing</th>\n",
       "      <th>ewes’</th>\n",
       "      <th>impede</th>\n",
       "      <th>lamb’s</th>\n",
       "      <th>(Book</th>\n",
       "      <th>evaluations</th>\n",
       "      <th>tests;</th>\n",
       "      <th>meet</th>\n",
       "      <th>Taken</th>\n",
       "    </tr>\n",
       "  </thead>\n",
       "  <tbody>\n",
       "    <tr>\n",
       "      <th>memory</th>\n",
       "      <td>6</td>\n",
       "      <td>319</td>\n",
       "      <td>492</td>\n",
       "      <td>502</td>\n",
       "      <td>3</td>\n",
       "      <td>4</td>\n",
       "      <td>2</td>\n",
       "      <td>51</td>\n",
       "      <td>197</td>\n",
       "      <td>38</td>\n",
       "      <td>...</td>\n",
       "      <td>0</td>\n",
       "      <td>0</td>\n",
       "      <td>0</td>\n",
       "      <td>0</td>\n",
       "      <td>0</td>\n",
       "      <td>0</td>\n",
       "      <td>0</td>\n",
       "      <td>0</td>\n",
       "      <td>0</td>\n",
       "      <td>0</td>\n",
       "    </tr>\n",
       "    <tr>\n",
       "      <th>association</th>\n",
       "      <td>0</td>\n",
       "      <td>37</td>\n",
       "      <td>235</td>\n",
       "      <td>128</td>\n",
       "      <td>3</td>\n",
       "      <td>1</td>\n",
       "      <td>0</td>\n",
       "      <td>57</td>\n",
       "      <td>9</td>\n",
       "      <td>0</td>\n",
       "      <td>...</td>\n",
       "      <td>0</td>\n",
       "      <td>0</td>\n",
       "      <td>0</td>\n",
       "      <td>0</td>\n",
       "      <td>0</td>\n",
       "      <td>0</td>\n",
       "      <td>0</td>\n",
       "      <td>0</td>\n",
       "      <td>0</td>\n",
       "      <td>0</td>\n",
       "    </tr>\n",
       "    <tr>\n",
       "      <th>learning</th>\n",
       "      <td>5</td>\n",
       "      <td>636</td>\n",
       "      <td>757</td>\n",
       "      <td>857</td>\n",
       "      <td>2</td>\n",
       "      <td>0</td>\n",
       "      <td>6</td>\n",
       "      <td>94</td>\n",
       "      <td>139</td>\n",
       "      <td>3</td>\n",
       "      <td>...</td>\n",
       "      <td>1</td>\n",
       "      <td>1</td>\n",
       "      <td>1</td>\n",
       "      <td>1</td>\n",
       "      <td>1</td>\n",
       "      <td>2</td>\n",
       "      <td>1</td>\n",
       "      <td>1</td>\n",
       "      <td>2</td>\n",
       "      <td>1</td>\n",
       "    </tr>\n",
       "    <tr>\n",
       "      <th>knowlegde</th>\n",
       "      <td>0</td>\n",
       "      <td>0</td>\n",
       "      <td>0</td>\n",
       "      <td>0</td>\n",
       "      <td>0</td>\n",
       "      <td>0</td>\n",
       "      <td>0</td>\n",
       "      <td>0</td>\n",
       "      <td>0</td>\n",
       "      <td>0</td>\n",
       "      <td>...</td>\n",
       "      <td>0</td>\n",
       "      <td>0</td>\n",
       "      <td>0</td>\n",
       "      <td>0</td>\n",
       "      <td>0</td>\n",
       "      <td>0</td>\n",
       "      <td>0</td>\n",
       "      <td>0</td>\n",
       "      <td>0</td>\n",
       "      <td>0</td>\n",
       "    </tr>\n",
       "    <tr>\n",
       "      <th>language</th>\n",
       "      <td>0</td>\n",
       "      <td>29</td>\n",
       "      <td>72</td>\n",
       "      <td>92</td>\n",
       "      <td>0</td>\n",
       "      <td>0</td>\n",
       "      <td>1</td>\n",
       "      <td>10</td>\n",
       "      <td>6</td>\n",
       "      <td>0</td>\n",
       "      <td>...</td>\n",
       "      <td>0</td>\n",
       "      <td>0</td>\n",
       "      <td>0</td>\n",
       "      <td>0</td>\n",
       "      <td>0</td>\n",
       "      <td>0</td>\n",
       "      <td>0</td>\n",
       "      <td>0</td>\n",
       "      <td>0</td>\n",
       "      <td>0</td>\n",
       "    </tr>\n",
       "  </tbody>\n",
       "</table>\n",
       "<p>5 rows × 4621 columns</p>\n",
       "</div>"
      ],
      "text/plain": [
       "             changes   in  the   of  reinforced  times  common  with  for  \\\n",
       "memory             6  319  492  502           3      4       2    51  197   \n",
       "association        0   37  235  128           3      1       0    57    9   \n",
       "learning           5  636  757  857           2      0       6    94  139   \n",
       "knowlegde          0    0    0    0           0      0       0     0    0   \n",
       "language           0   29   72   92           0      0       1    10    6   \n",
       "\n",
       "             duration  ...    techniques,  developing  ewes’  impede  lamb’s  \\\n",
       "memory             38  ...              0           0      0       0       0   \n",
       "association         0  ...              0           0      0       0       0   \n",
       "learning            3  ...              1           1      1       1       1   \n",
       "knowlegde           0  ...              0           0      0       0       0   \n",
       "language            0  ...              0           0      0       0       0   \n",
       "\n",
       "             (Book  evaluations  tests;  meet  Taken  \n",
       "memory           0            0       0     0      0  \n",
       "association      0            0       0     0      0  \n",
       "learning         2            1       1     2      1  \n",
       "knowlegde        0            0       0     0      0  \n",
       "language         0            0       0     0      0  \n",
       "\n",
       "[5 rows x 4621 columns]"
      ]
     },
     "metadata": {},
     "output_type": "display_data"
    }
   ],
   "source": [
    "coocc_count_1 = mangoes.counting.count_cooccurrence(corpus,  \n",
    "                                                    my_words, \n",
    "                                                    context=simple_window)\n",
    "coocc_count_1.pprint(display=display)"
   ]
  },
  {
   "cell_type": "markdown",
   "metadata": {},
   "source": [
    "# MANGOES Cognitive Science and Topics in Cognitive Science"
   ]
  },
  {
   "cell_type": "code",
   "execution_count": 226,
   "metadata": {},
   "outputs": [
    {
     "name": "stdout",
     "output_type": "stream",
     "text": [
      "1202164 sentences, 9567998 words\n"
     ]
    }
   ],
   "source": [
    "corpus = mangoes.Corpus('../ter_text/cogniscience')\n",
    "corpusCogn = corpus\n",
    "nbWord = corpus.size\n",
    "print(\"{} sentences, {} words\".format(corpus.nb_sentences, corpus.size))"
   ]
  },
  {
   "cell_type": "code",
   "execution_count": 28,
   "metadata": {},
   "outputs": [
    {
     "name": "stdout",
     "output_type": "stream",
     "text": [
      "8573\n",
      "714\n",
      "11523\n",
      "10064\n",
      "8569\n"
     ]
    }
   ],
   "source": [
    "print(corpus.words_count[\"memory\"])\n",
    "print(corpus.words_count[\"association\"])\n",
    "print(corpus.words_count[\"learning\"])\n",
    "print(corpus.words_count[\"knowledge\"])\n",
    "print(corpus.words_count[\"language\"])"
   ]
  },
  {
   "cell_type": "code",
   "execution_count": 29,
   "metadata": {},
   "outputs": [
    {
     "name": "stdout",
     "output_type": "stream",
     "text": [
      "0.0896007712376194\n",
      "0.007462376141801033\n",
      "0.12043271748175532\n",
      "0.1051839684749098\n",
      "0.0895589652088138\n"
     ]
    }
   ],
   "source": [
    "print(corpus.words_count[\"memory\"]*100/nbWord)\n",
    "print(corpus.words_count[\"association\"]*100/nbWord)\n",
    "print(corpus.words_count[\"learning\"]*100/nbWord)\n",
    "print(corpus.words_count[\"knowledge\"]*100/nbWord)\n",
    "print(corpus.words_count[\"language\"]*100/nbWord)"
   ]
  },
  {
   "cell_type": "code",
   "execution_count": 53,
   "metadata": {},
   "outputs": [
    {
     "name": "stdout",
     "output_type": "stream",
     "text": [
      "352758\n"
     ]
    }
   ],
   "source": [
    "vocabulary = corpus.create_vocabulary()\n",
    "print(len(vocabulary))"
   ]
  },
  {
   "cell_type": "code",
   "execution_count": 54,
   "metadata": {},
   "outputs": [
    {
     "name": "stdout",
     "output_type": "stream",
     "text": [
      "['the', 'of', 'to', 'and', 'a', 'in', 'is', 'that', 'for', 'are']\n"
     ]
    }
   ],
   "source": [
    "punctuation_filter = mangoes.corpus.remove_elements(string.punctuation)\n",
    "vocabulary_no_punct = corpus.create_vocabulary(filters=[punctuation_filter])\n",
    "print(vocabulary_no_punct[:10])"
   ]
  },
  {
   "cell_type": "code",
   "execution_count": 55,
   "metadata": {},
   "outputs": [
    {
     "name": "stdout",
     "output_type": "stream",
     "text": [
      "['The', '.', 'In', 'one', '&', 'This', ').', 'may', 'two', 'A']\n"
     ]
    }
   ],
   "source": [
    "stopwords_filter = mangoes.corpus.remove_elements(nltk.corpus.stopwords.words('english'))\n",
    "vocabulary_no_stopwords = corpus.create_vocabulary(filters=[stopwords_filter])\n",
    "print(vocabulary_no_stopwords[:10])"
   ]
  },
  {
   "cell_type": "code",
   "execution_count": 56,
   "metadata": {},
   "outputs": [
    {
     "name": "stdout",
     "output_type": "stream",
     "text": [
      "['one', 'This', 'may', 'two', 'A', 'also', 'model', 'cognitive', 'would', 'different']\n"
     ]
    }
   ],
   "source": [
    "my_words_filter = mangoes.corpus.remove_elements(['The', ').', 'In', 'et'])\n",
    "my_vocabulary = corpus.create_vocabulary(filters=[punctuation_filter, stopwords_filter, my_words_filter])\n",
    "print(my_vocabulary[:10])"
   ]
  },
  {
   "cell_type": "code",
   "execution_count": 57,
   "metadata": {},
   "outputs": [
    {
     "name": "stdout",
     "output_type": "stream",
     "text": [
      "(352758, 352758)\n"
     ]
    }
   ],
   "source": [
    "counts_matrix = mangoes.counting.count_cooccurrence(corpus, vocabulary, vocabulary)\n",
    "print(counts_matrix.shape)\n",
    "\n",
    "ppmi = mangoes.weighting.PPMI()\n",
    "svd = mangoes.reduction.SVD(dimensions=50)\n",
    "embedding = mangoes.create_representation(counts_matrix, weighting=ppmi, reduction=svd)\n",
    "embeddingCogn = embedding"
   ]
  },
  {
   "cell_type": "markdown",
   "metadata": {},
   "source": [
    "## Tests statistiques"
   ]
  },
  {
   "cell_type": "code",
   "execution_count": 58,
   "metadata": {},
   "outputs": [
    {
     "name": "stdout",
     "output_type": "stream",
     "text": [
      "\n",
      "                                                            Nb questions      cosadd      cosmul\n",
      "================================================================================================\n",
      "Google                                                        5078/19544       3.66%       3.27%\n",
      "------------------------------------------------------------------------------------------------\n",
      "\n"
     ]
    }
   ],
   "source": [
    "import mangoes.evaluation.analogy\n",
    "analogy_evaluation = mangoes.evaluation.analogy.Evaluation(embedding, mangoes.evaluation.analogy.GOOGLE)\n",
    "print(analogy_evaluation.get_report())"
   ]
  },
  {
   "cell_type": "code",
   "execution_count": 59,
   "metadata": {},
   "outputs": [
    {
     "name": "stdout",
     "output_type": "stream",
     "text": [
      "\n",
      "                                                                          pearson       spearman\n",
      "                                                      Nb questions        (p-val)        (p-val)\n",
      "================================================================================================\n",
      "WS353                                                      301/353   0.112(5e-02)  0.0872(1e-01)\n",
      "------------------------------------------------------------------------------------------------\n",
      "WS353 relatedness                                          223/252   0.174(9e-03)   0.156(2e-02)\n",
      "------------------------------------------------------------------------------------------------\n",
      "WS353 similarity                                           171/203   0.114(1e-01)   0.133(8e-02)\n",
      "------------------------------------------------------------------------------------------------\n",
      "MEN                                                      2518/3000  0.0603(2e-03)  0.0577(4e-03)\n",
      "------------------------------------------------------------------------------------------------\n",
      "M. Turk                                                    174/287  0.0937(2e-01)    0.06(4e-01)\n",
      "------------------------------------------------------------------------------------------------\n",
      "Rareword                                                  825/2034  0.0229(5e-01)  0.0277(4e-01)\n",
      "------------------------------------------------------------------------------------------------\n",
      "RG65                                                         37/65   0.127(5e-01)   0.112(5e-01)\n",
      "------------------------------------------------------------------------------------------------\n",
      "\n"
     ]
    }
   ],
   "source": [
    "import mangoes.evaluation.similarity\n",
    "ws_evaluation = mangoes.evaluation.similarity.Evaluation(embedding, *mangoes.evaluation.similarity.ALL_DATASETS)\n",
    "print(ws_evaluation.get_report()) # doctest: +NORMALIZE_WHITESPACE"
   ]
  },
  {
   "cell_type": "code",
   "execution_count": 60,
   "metadata": {},
   "outputs": [
    {
     "name": "stdout",
     "output_type": "stream",
     "text": [
      "\n",
      "                                                            Nb questions         OPP    accuracy\n",
      "================================================================================================\n",
      "8-8-8                                                               0/64          NA          NA\n",
      "------------------------------------------------------------------------------------------------\n",
      "wiki-sem-500                                                      8/2812      73.61%      25.00%\n",
      "------------------------------------------------------------------------------------------------\n",
      "\n"
     ]
    }
   ],
   "source": [
    "import mangoes.evaluation.outlier\n",
    "outlier_evaluation = mangoes.evaluation.outlier.Evaluation(embedding, *mangoes.evaluation.outlier.ALL_DATASETS)\n",
    "print(outlier_evaluation.get_report())"
   ]
  },
  {
   "cell_type": "markdown",
   "metadata": {},
   "source": [
    "## Les 10 mots les plus proches de 'memory', 'learning', 'knowledge', 'association','language'"
   ]
  },
  {
   "cell_type": "code",
   "execution_count": 61,
   "metadata": {},
   "outputs": [
    {
     "name": "stdout",
     "output_type": "stream",
     "text": [
      "Les 10 mots les plus proches du mot 'memory' sont: [('processing', 0.063437035217953075), ('control', 0.07526211616370504), ('language', 0.10310779060524444), ('perceptual', 0.1347396550141472), ('production', 0.13673037793341303), ('learning', 0.14139093964543625), ('speech', 0.1433107209470853), ('attentional', 0.14626638475053655), ('communication', 0.14929566628903879), ('recognition', 0.14993085488521352)]\n",
      "\n",
      "\n",
      "Les 10 mots les plus proches du mot 'learning' sont: [('search', 0.074663678658361987), ('decision', 0.090332377208625969), ('comprehension', 0.098942913208323491), ('planning', 0.10469059234055234), ('control', 0.11052540915515063), ('acquisition', 0.11922459103836491), ('reasoning', 0.12664265517562134), ('recognition', 0.12846159396832335), ('conditioning', 0.13230949317943397), ('memory', 0.14139093964543625)]\n",
      "\n",
      "\n",
      "Les 10 mots les plus proches du mot 'knowledge' sont: [('meaning', 0.11090482727783746), ('representation', 0.11124796908519041), ('action', 0.1185563790999824), ('reasoning', 0.12164316463125346), ('information', 0.12374292351941918), ('context', 0.12449847938343539), ('domain', 0.13801298969004172), ('structure', 0.14144020807431146), ('representations', 0.14294721767591501), ('content', 0.15094860514519304)]\n",
      "\n",
      "\n",
      "Les 10 mots les plus proches du mot 'association' sont: [('connection', 0.09263104651876819), ('connectivity', 0.10273369706767821), ('coupling', 0.11412800638887666), ('loss', 0.12258954160633606), ('tuning', 0.12396902470669469), ('projection', 0.12955611435041792), ('resolution', 0.13024590781120526), ('interaction', 0.13413296383261331), ('firing', 0.13598736547358159), ('stress', 0.13984752487355467)]\n",
      "\n",
      "\n",
      "Les 10 mots les plus proches du mot 'language' sont: [('memory', 0.10310779060524444), ('speech', 0.10630547148195113), ('communication', 0.1326005625981268), ('control', 0.13758866419200255), ('discourse', 0.14382887409462375), ('production', 0.1559558867272135), ('emotion', 0.15865153604890958), ('music', 0.17462064451379244), ('planning', 0.17678522437435673), ('processing', 0.17696700857892533)]\n",
      "\n",
      "\n"
     ]
    }
   ],
   "source": [
    "kclosestwords(\"memory\")\n",
    "kclosestwords(\"learning\")\n",
    "kclosestwords(\"knowledge\")\n",
    "kclosestwords(\"association\")\n",
    "kclosestwords(\"language\")"
   ]
  },
  {
   "cell_type": "markdown",
   "metadata": {},
   "source": [
    "## La distance cosinus entre 'memory', 'learning', 'knowledge','language' et 'association'"
   ]
  },
  {
   "cell_type": "code",
   "execution_count": 62,
   "metadata": {},
   "outputs": [
    {
     "name": "stdout",
     "output_type": "stream",
     "text": [
      "La distance cosinus entre 'memory'et 'association' vaut : 0.309100219336\n",
      "La distance cosinus entre 'memory'et 'learning' vaut : 0.141390939645\n",
      "La distance cosinus entre 'learning'et 'association' vaut : 0.46861824064\n",
      "La distance cosinus entre 'knowledge'et 'memory' vaut : 0.251589979963\n",
      "La distance cosinus entre 'knowledge'et 'learning' vaut : 0.323342609153\n",
      "La distance cosinus entre 'knowledge'et 'association' vaut : 0.378130759133\n",
      "La distance cosinus entre 'language'et 'association' vaut : 0.455276485205\n",
      "La distance cosinus entre 'language'et 'learning' vaut : 0.178889492852\n",
      "La distance cosinus entre 'language'et 'knowledge' vaut : 0.251886886278\n",
      "La distance cosinus entre 'language'et 'memory' vaut : 0.103107790605\n"
     ]
    }
   ],
   "source": [
    "cosineDistances(\"memory\",\"association\")\n",
    "cosineDistances(\"memory\",\"learning\")\n",
    "cosineDistances(\"learning\",\"association\")\n",
    "cosineDistances(\"knowledge\",\"memory\")\n",
    "cosineDistances(\"knowledge\",\"learning\")\n",
    "cosineDistances(\"knowledge\",\"association\")\n",
    "\n",
    "cosineDistances(\"language\",\"association\")\n",
    "cosineDistances(\"language\",\"learning\")\n",
    "cosineDistances(\"language\",\"knowledge\")\n",
    "cosineDistances(\"language\",\"memory\")\n"
   ]
  },
  {
   "cell_type": "markdown",
   "metadata": {},
   "source": [
    "## Le contexte des mots 'memory', 'learning', 'knowledge','language' et 'association'"
   ]
  },
  {
   "cell_type": "code",
   "execution_count": 63,
   "metadata": {},
   "outputs": [
    {
     "name": "stdout",
     "output_type": "stream",
     "text": [
      "Mes mots : memory, association, learning, knowlegde, language\n"
     ]
    }
   ],
   "source": [
    "\n",
    "# Provide your own list of words to create a Vocabulary:\n",
    "my_words = mangoes.Vocabulary([\"memory\", \"association\", \"learning\", \"knowlegde\", \"language\"])\n",
    "print(\"Mes mots : {}\".format(\", \".join(my_words)))\n",
    "simple_window = mangoes.context.Window(window_half_size=3)"
   ]
  },
  {
   "cell_type": "code",
   "execution_count": 64,
   "metadata": {},
   "outputs": [
    {
     "data": {
      "text/html": [
       "<div>\n",
       "<style>\n",
       "    .dataframe thead tr:only-child th {\n",
       "        text-align: right;\n",
       "    }\n",
       "\n",
       "    .dataframe thead th {\n",
       "        text-align: left;\n",
       "    }\n",
       "\n",
       "    .dataframe tbody tr th {\n",
       "        vertical-align: top;\n",
       "    }\n",
       "</style>\n",
       "<table border=\"1\" class=\"dataframe\">\n",
       "  <thead>\n",
       "    <tr style=\"text-align: right;\">\n",
       "      <th></th>\n",
       "      <th>to</th>\n",
       "      <th>the</th>\n",
       "      <th>positive</th>\n",
       "      <th>between</th>\n",
       "      <th>arousal</th>\n",
       "      <th>working</th>\n",
       "      <th>models</th>\n",
       "      <th>that</th>\n",
       "      <th>differ</th>\n",
       "      <th>Working</th>\n",
       "      <th>...</th>\n",
       "      <th>partitioning</th>\n",
       "      <th>RAT</th>\n",
       "      <th>(Nelson</th>\n",
       "      <th>(Steyvers</th>\n",
       "      <th>termination</th>\n",
       "      <th>(Awh</th>\n",
       "      <th>avian</th>\n",
       "      <th>‘episodic-like’</th>\n",
       "      <th>animals:</th>\n",
       "      <th>remembers</th>\n",
       "    </tr>\n",
       "  </thead>\n",
       "  <tbody>\n",
       "    <tr>\n",
       "      <th>memory</th>\n",
       "      <td>811</td>\n",
       "      <td>1821</td>\n",
       "      <td>0</td>\n",
       "      <td>115</td>\n",
       "      <td>0</td>\n",
       "      <td>1174</td>\n",
       "      <td>65</td>\n",
       "      <td>699</td>\n",
       "      <td>6</td>\n",
       "      <td>52</td>\n",
       "      <td>...</td>\n",
       "      <td>1</td>\n",
       "      <td>1</td>\n",
       "      <td>0</td>\n",
       "      <td>0</td>\n",
       "      <td>1</td>\n",
       "      <td>1</td>\n",
       "      <td>0</td>\n",
       "      <td>1</td>\n",
       "      <td>1</td>\n",
       "      <td>1</td>\n",
       "    </tr>\n",
       "    <tr>\n",
       "      <th>association</th>\n",
       "      <td>65</td>\n",
       "      <td>270</td>\n",
       "      <td>18</td>\n",
       "      <td>174</td>\n",
       "      <td>1</td>\n",
       "      <td>1</td>\n",
       "      <td>1</td>\n",
       "      <td>55</td>\n",
       "      <td>0</td>\n",
       "      <td>0</td>\n",
       "      <td>...</td>\n",
       "      <td>0</td>\n",
       "      <td>0</td>\n",
       "      <td>1</td>\n",
       "      <td>1</td>\n",
       "      <td>0</td>\n",
       "      <td>0</td>\n",
       "      <td>0</td>\n",
       "      <td>0</td>\n",
       "      <td>0</td>\n",
       "      <td>0</td>\n",
       "    </tr>\n",
       "    <tr>\n",
       "      <th>learning</th>\n",
       "      <td>1383</td>\n",
       "      <td>2810</td>\n",
       "      <td>13</td>\n",
       "      <td>92</td>\n",
       "      <td>0</td>\n",
       "      <td>9</td>\n",
       "      <td>187</td>\n",
       "      <td>1021</td>\n",
       "      <td>7</td>\n",
       "      <td>0</td>\n",
       "      <td>...</td>\n",
       "      <td>0</td>\n",
       "      <td>0</td>\n",
       "      <td>0</td>\n",
       "      <td>0</td>\n",
       "      <td>0</td>\n",
       "      <td>0</td>\n",
       "      <td>1</td>\n",
       "      <td>0</td>\n",
       "      <td>0</td>\n",
       "      <td>0</td>\n",
       "    </tr>\n",
       "    <tr>\n",
       "      <th>knowlegde</th>\n",
       "      <td>0</td>\n",
       "      <td>0</td>\n",
       "      <td>0</td>\n",
       "      <td>0</td>\n",
       "      <td>0</td>\n",
       "      <td>0</td>\n",
       "      <td>0</td>\n",
       "      <td>0</td>\n",
       "      <td>0</td>\n",
       "      <td>0</td>\n",
       "      <td>...</td>\n",
       "      <td>0</td>\n",
       "      <td>0</td>\n",
       "      <td>0</td>\n",
       "      <td>0</td>\n",
       "      <td>0</td>\n",
       "      <td>0</td>\n",
       "      <td>0</td>\n",
       "      <td>0</td>\n",
       "      <td>0</td>\n",
       "      <td>0</td>\n",
       "    </tr>\n",
       "    <tr>\n",
       "      <th>language</th>\n",
       "      <td>912</td>\n",
       "      <td>2028</td>\n",
       "      <td>4</td>\n",
       "      <td>126</td>\n",
       "      <td>0</td>\n",
       "      <td>2</td>\n",
       "      <td>81</td>\n",
       "      <td>785</td>\n",
       "      <td>11</td>\n",
       "      <td>1</td>\n",
       "      <td>...</td>\n",
       "      <td>0</td>\n",
       "      <td>0</td>\n",
       "      <td>0</td>\n",
       "      <td>0</td>\n",
       "      <td>0</td>\n",
       "      <td>0</td>\n",
       "      <td>0</td>\n",
       "      <td>0</td>\n",
       "      <td>0</td>\n",
       "      <td>0</td>\n",
       "    </tr>\n",
       "  </tbody>\n",
       "</table>\n",
       "<p>5 rows × 15130 columns</p>\n",
       "</div>"
      ],
      "text/plain": [
       "               to   the  positive  between  arousal  working  models  that  \\\n",
       "memory        811  1821         0      115        0     1174      65   699   \n",
       "association    65   270        18      174        1        1       1    55   \n",
       "learning     1383  2810        13       92        0        9     187  1021   \n",
       "knowlegde       0     0         0        0        0        0       0     0   \n",
       "language      912  2028         4      126        0        2      81   785   \n",
       "\n",
       "             differ  Working    ...      partitioning  RAT  (Nelson  \\\n",
       "memory            6       52    ...                 1    1        0   \n",
       "association       0        0    ...                 0    0        1   \n",
       "learning          7        0    ...                 0    0        0   \n",
       "knowlegde         0        0    ...                 0    0        0   \n",
       "language         11        1    ...                 0    0        0   \n",
       "\n",
       "             (Steyvers  termination  (Awh  avian  ‘episodic-like’  animals:  \\\n",
       "memory               0            1     1      0                1         1   \n",
       "association          1            0     0      0                0         0   \n",
       "learning             0            0     0      1                0         0   \n",
       "knowlegde            0            0     0      0                0         0   \n",
       "language             0            0     0      0                0         0   \n",
       "\n",
       "             remembers  \n",
       "memory               1  \n",
       "association          0  \n",
       "learning             0  \n",
       "knowlegde            0  \n",
       "language             0  \n",
       "\n",
       "[5 rows x 15130 columns]"
      ]
     },
     "metadata": {},
     "output_type": "display_data"
    }
   ],
   "source": [
    "coocc_count_1 = mangoes.counting.count_cooccurrence(corpus,  \n",
    "                                                    my_words, \n",
    "                                                    context=simple_window)\n",
    "coocc_count_1.pprint(display=display)"
   ]
  },
  {
   "cell_type": "markdown",
   "metadata": {},
   "source": [
    "# Présentation des résultats"
   ]
  },
  {
   "cell_type": "code",
   "execution_count": 165,
   "metadata": {
    "collapsed": true
   },
   "outputs": [],
   "source": [
    "import matplotlib.pyplot as plt\n",
    "import numpy \n",
    "import pandas\n",
    "def df_closest_words(word):\n",
    "    \n",
    "    wiki = embeddingWiki.get_closest_words(word, 10)\n",
    "    behav = embeddingBehav.get_closest_words(word, 10)\n",
    "    cogn = embeddingCogn.get_closest_words(word, 10)\n",
    "\n",
    "    wikiList = []\n",
    "    behavList = []\n",
    "    cognList = []\n",
    "    for i in range(10):\n",
    "        wikiList.append(wiki[i][0] + '(' + str(wiki[i][1])[:5] + ')')\n",
    "        behavList.append(behav[i][0] + '(' + str(behav[i][1])[:5] + ')')\n",
    "        cognList.append(cogn[i][0] + '(' + str(cogn[i][1])[:5] + ')')\n",
    "\n",
    "    \n",
    "                        \n",
    "    ar = numpy.array([wikiList, behavList, cognList])\n",
    "    df = pandas.DataFrame(ar, index = [\"Wikipédia\", \"Behavioural processes\", \"Cognitive Science\"], columns = range(11)[1:])\n",
    "    return df\n",
    "    \n",
    "    "
   ]
  },
  {
   "cell_type": "markdown",
   "metadata": {},
   "source": [
    "## Les 10 mots les plus proches par mot cible et par revue"
   ]
  },
  {
   "cell_type": "code",
   "execution_count": 166,
   "metadata": {},
   "outputs": [
    {
     "data": {
      "text/html": [
       "<div>\n",
       "<style>\n",
       "    .dataframe thead tr:only-child th {\n",
       "        text-align: right;\n",
       "    }\n",
       "\n",
       "    .dataframe thead th {\n",
       "        text-align: left;\n",
       "    }\n",
       "\n",
       "    .dataframe tbody tr th {\n",
       "        vertical-align: top;\n",
       "    }\n",
       "</style>\n",
       "<table border=\"1\" class=\"dataframe\">\n",
       "  <thead>\n",
       "    <tr style=\"text-align: right;\">\n",
       "      <th></th>\n",
       "      <th>1</th>\n",
       "      <th>2</th>\n",
       "      <th>3</th>\n",
       "      <th>4</th>\n",
       "      <th>5</th>\n",
       "      <th>6</th>\n",
       "      <th>7</th>\n",
       "      <th>8</th>\n",
       "      <th>9</th>\n",
       "      <th>10</th>\n",
       "    </tr>\n",
       "  </thead>\n",
       "  <tbody>\n",
       "    <tr>\n",
       "      <th>Wikipédia</th>\n",
       "      <td>dram(0.320)</td>\n",
       "      <td>sram(0.342)</td>\n",
       "      <td>eeprom(0.346)</td>\n",
       "      <td>onchip(0.354)</td>\n",
       "      <td>chip(0.364)</td>\n",
       "      <td>sdram(0.372)</td>\n",
       "      <td>cpu(0.373)</td>\n",
       "      <td>cache(0.376)</td>\n",
       "      <td>ddr0(0.382)</td>\n",
       "      <td>0mb(0.382)</td>\n",
       "    </tr>\n",
       "    <tr>\n",
       "      <th>Behavioural processes</th>\n",
       "      <td>learning(0.007)</td>\n",
       "      <td>timing(0.019)</td>\n",
       "      <td>recognition(0.027)</td>\n",
       "      <td>processing(0.036)</td>\n",
       "      <td>motor(0.046)</td>\n",
       "      <td>sensory(0.048)</td>\n",
       "      <td>associative(0.050)</td>\n",
       "      <td>spatial(0.050)</td>\n",
       "      <td>brain(0.050)</td>\n",
       "      <td>discrimination(0.051)</td>\n",
       "    </tr>\n",
       "    <tr>\n",
       "      <th>Cognitive Science</th>\n",
       "      <td>learning(0.015)</td>\n",
       "      <td>language(0.016)</td>\n",
       "      <td>control(0.026)</td>\n",
       "      <td>processing(0.027)</td>\n",
       "      <td>brain(0.037)</td>\n",
       "      <td>speech(0.038)</td>\n",
       "      <td>decision(0.040)</td>\n",
       "      <td>mental(0.041)</td>\n",
       "      <td>discourse(0.043)</td>\n",
       "      <td>planning(0.045)</td>\n",
       "    </tr>\n",
       "  </tbody>\n",
       "</table>\n",
       "</div>"
      ],
      "text/plain": [
       "                                    1                2                   3   \\\n",
       "Wikipédia                  dram(0.320)      sram(0.342)       eeprom(0.346)   \n",
       "Behavioural processes  learning(0.007)    timing(0.019)  recognition(0.027)   \n",
       "Cognitive Science      learning(0.015)  language(0.016)      control(0.026)   \n",
       "\n",
       "                                      4             5               6   \\\n",
       "Wikipédia                  onchip(0.354)   chip(0.364)    sdram(0.372)   \n",
       "Behavioural processes  processing(0.036)  motor(0.046)  sensory(0.048)   \n",
       "Cognitive Science      processing(0.027)  brain(0.037)   speech(0.038)   \n",
       "\n",
       "                                       7               8                 9   \\\n",
       "Wikipédia                      cpu(0.373)    cache(0.376)       ddr0(0.382)   \n",
       "Behavioural processes  associative(0.050)  spatial(0.050)      brain(0.050)   \n",
       "Cognitive Science         decision(0.040)   mental(0.041)  discourse(0.043)   \n",
       "\n",
       "                                          10  \n",
       "Wikipédia                         0mb(0.382)  \n",
       "Behavioural processes  discrimination(0.051)  \n",
       "Cognitive Science            planning(0.045)  "
      ]
     },
     "execution_count": 166,
     "metadata": {},
     "output_type": "execute_result"
    }
   ],
   "source": [
    "df_closest_words('memory')"
   ]
  },
  {
   "cell_type": "code",
   "execution_count": 167,
   "metadata": {},
   "outputs": [
    {
     "data": {
      "text/html": [
       "<div>\n",
       "<style>\n",
       "    .dataframe thead tr:only-child th {\n",
       "        text-align: right;\n",
       "    }\n",
       "\n",
       "    .dataframe thead th {\n",
       "        text-align: left;\n",
       "    }\n",
       "\n",
       "    .dataframe tbody tr th {\n",
       "        vertical-align: top;\n",
       "    }\n",
       "</style>\n",
       "<table border=\"1\" class=\"dataframe\">\n",
       "  <thead>\n",
       "    <tr style=\"text-align: right;\">\n",
       "      <th></th>\n",
       "      <th>1</th>\n",
       "      <th>2</th>\n",
       "      <th>3</th>\n",
       "      <th>4</th>\n",
       "      <th>5</th>\n",
       "      <th>6</th>\n",
       "      <th>7</th>\n",
       "      <th>8</th>\n",
       "      <th>9</th>\n",
       "      <th>10</th>\n",
       "    </tr>\n",
       "  </thead>\n",
       "  <tbody>\n",
       "    <tr>\n",
       "      <th>Wikipédia</th>\n",
       "      <td>problemsolving(0.382)</td>\n",
       "      <td>experiential(0.405)</td>\n",
       "      <td>literacy(0.406)</td>\n",
       "      <td>teaching(0.422)</td>\n",
       "      <td>handson(0.438)</td>\n",
       "      <td>learners(0.460)</td>\n",
       "      <td>classroom(0.465)</td>\n",
       "      <td>inquirybased(0.467)</td>\n",
       "      <td>studentcentered(0.478)</td>\n",
       "      <td>numeracy(0.480)</td>\n",
       "    </tr>\n",
       "    <tr>\n",
       "      <th>Behavioural processes</th>\n",
       "      <td>memory(0.007)</td>\n",
       "      <td>recognition(0.028)</td>\n",
       "      <td>timing(0.028)</td>\n",
       "      <td>processing(0.050)</td>\n",
       "      <td>visual(0.052)</td>\n",
       "      <td>discrimination(0.052)</td>\n",
       "      <td>sensory(0.053)</td>\n",
       "      <td>spatial(0.054)</td>\n",
       "      <td>motor(0.055)</td>\n",
       "      <td>conditioning(0.058)</td>\n",
       "    </tr>\n",
       "    <tr>\n",
       "      <th>Cognitive Science</th>\n",
       "      <td>memory(0.015)</td>\n",
       "      <td>language(0.024)</td>\n",
       "      <td>processing(0.026)</td>\n",
       "      <td>control(0.031)</td>\n",
       "      <td>decision(0.039)</td>\n",
       "      <td>brain(0.042)</td>\n",
       "      <td>planning(0.045)</td>\n",
       "      <td>search(0.046)</td>\n",
       "      <td>recognition(0.048)</td>\n",
       "      <td>speech(0.048)</td>\n",
       "    </tr>\n",
       "  </tbody>\n",
       "</table>\n",
       "</div>"
      ],
      "text/plain": [
       "                                          1                    2   \\\n",
       "Wikipédia              problemsolving(0.382)  experiential(0.405)   \n",
       "Behavioural processes          memory(0.007)   recognition(0.028)   \n",
       "Cognitive Science              memory(0.015)      language(0.024)   \n",
       "\n",
       "                                      3                  4                5   \\\n",
       "Wikipédia                literacy(0.406)    teaching(0.422)   handson(0.438)   \n",
       "Behavioural processes      timing(0.028)  processing(0.050)    visual(0.052)   \n",
       "Cognitive Science      processing(0.026)     control(0.031)  decision(0.039)   \n",
       "\n",
       "                                          6                 7   \\\n",
       "Wikipédia                    learners(0.460)  classroom(0.465)   \n",
       "Behavioural processes  discrimination(0.052)    sensory(0.053)   \n",
       "Cognitive Science               brain(0.042)   planning(0.045)   \n",
       "\n",
       "                                        8                       9   \\\n",
       "Wikipédia              inquirybased(0.467)  studentcentered(0.478)   \n",
       "Behavioural processes       spatial(0.054)            motor(0.055)   \n",
       "Cognitive Science            search(0.046)      recognition(0.048)   \n",
       "\n",
       "                                        10  \n",
       "Wikipédia                  numeracy(0.480)  \n",
       "Behavioural processes  conditioning(0.058)  \n",
       "Cognitive Science            speech(0.048)  "
      ]
     },
     "execution_count": 167,
     "metadata": {},
     "output_type": "execute_result"
    }
   ],
   "source": [
    "df_closest_words('learning')"
   ]
  },
  {
   "cell_type": "code",
   "execution_count": 168,
   "metadata": {},
   "outputs": [
    {
     "data": {
      "text/html": [
       "<div>\n",
       "<style>\n",
       "    .dataframe thead tr:only-child th {\n",
       "        text-align: right;\n",
       "    }\n",
       "\n",
       "    .dataframe thead th {\n",
       "        text-align: left;\n",
       "    }\n",
       "\n",
       "    .dataframe tbody tr th {\n",
       "        vertical-align: top;\n",
       "    }\n",
       "</style>\n",
       "<table border=\"1\" class=\"dataframe\">\n",
       "  <thead>\n",
       "    <tr style=\"text-align: right;\">\n",
       "      <th></th>\n",
       "      <th>1</th>\n",
       "      <th>2</th>\n",
       "      <th>3</th>\n",
       "      <th>4</th>\n",
       "      <th>5</th>\n",
       "      <th>6</th>\n",
       "      <th>7</th>\n",
       "      <th>8</th>\n",
       "      <th>9</th>\n",
       "      <th>10</th>\n",
       "    </tr>\n",
       "  </thead>\n",
       "  <tbody>\n",
       "    <tr>\n",
       "      <th>Wikipédia</th>\n",
       "      <td>federation(0.267)</td>\n",
       "      <td>associations(0.286)</td>\n",
       "      <td>federations(0.416)</td>\n",
       "      <td>association's(0.442)</td>\n",
       "      <td>society(0.453)</td>\n",
       "      <td>union(0.455)</td>\n",
       "      <td>association'(0.473)</td>\n",
       "      <td>soccer(0.498)</td>\n",
       "      <td>volleyball(0.505)</td>\n",
       "      <td>badminton(0.506)</td>\n",
       "    </tr>\n",
       "    <tr>\n",
       "      <th>Behavioural processes</th>\n",
       "      <td>inhibition(0.043)</td>\n",
       "      <td>input(0.052)</td>\n",
       "      <td>action(0.052)</td>\n",
       "      <td>event(0.055)</td>\n",
       "      <td>path(0.058)</td>\n",
       "      <td>stimulation(0.058)</td>\n",
       "      <td>requirements(0.058)</td>\n",
       "      <td>motivation(0.060)</td>\n",
       "      <td>feedback(0.060)</td>\n",
       "      <td>state(0.061)</td>\n",
       "    </tr>\n",
       "    <tr>\n",
       "      <th>Cognitive Science</th>\n",
       "      <td>connection(0.022)</td>\n",
       "      <td>array(0.029)</td>\n",
       "      <td>interaction(0.030)</td>\n",
       "      <td>analog(0.033)</td>\n",
       "      <td>vocabulary(0.033)</td>\n",
       "      <td>judgment(0.034)</td>\n",
       "      <td>discrimination(0.035)</td>\n",
       "      <td>shape(0.035)</td>\n",
       "      <td>integration(0.035)</td>\n",
       "      <td>equivalence(0.035)</td>\n",
       "    </tr>\n",
       "  </tbody>\n",
       "</table>\n",
       "</div>"
      ],
      "text/plain": [
       "                                      1                    2   \\\n",
       "Wikipédia              federation(0.267)  associations(0.286)   \n",
       "Behavioural processes  inhibition(0.043)         input(0.052)   \n",
       "Cognitive Science      connection(0.022)         array(0.029)   \n",
       "\n",
       "                                       3                     4   \\\n",
       "Wikipédia              federations(0.416)  association's(0.442)   \n",
       "Behavioural processes       action(0.052)          event(0.055)   \n",
       "Cognitive Science      interaction(0.030)         analog(0.033)   \n",
       "\n",
       "                                      5                   6   \\\n",
       "Wikipédia                 society(0.453)        union(0.455)   \n",
       "Behavioural processes        path(0.058)  stimulation(0.058)   \n",
       "Cognitive Science      vocabulary(0.033)     judgment(0.034)   \n",
       "\n",
       "                                          7                  8   \\\n",
       "Wikipédia                association'(0.473)      soccer(0.498)   \n",
       "Behavioural processes    requirements(0.058)  motivation(0.060)   \n",
       "Cognitive Science      discrimination(0.035)       shape(0.035)   \n",
       "\n",
       "                                       9                   10  \n",
       "Wikipédia               volleyball(0.505)    badminton(0.506)  \n",
       "Behavioural processes     feedback(0.060)        state(0.061)  \n",
       "Cognitive Science      integration(0.035)  equivalence(0.035)  "
      ]
     },
     "execution_count": 168,
     "metadata": {},
     "output_type": "execute_result"
    }
   ],
   "source": [
    "df_closest_words('association')"
   ]
  },
  {
   "cell_type": "code",
   "execution_count": 169,
   "metadata": {},
   "outputs": [
    {
     "data": {
      "text/html": [
       "<div>\n",
       "<style>\n",
       "    .dataframe thead tr:only-child th {\n",
       "        text-align: right;\n",
       "    }\n",
       "\n",
       "    .dataframe thead th {\n",
       "        text-align: left;\n",
       "    }\n",
       "\n",
       "    .dataframe tbody tr th {\n",
       "        vertical-align: top;\n",
       "    }\n",
       "</style>\n",
       "<table border=\"1\" class=\"dataframe\">\n",
       "  <thead>\n",
       "    <tr style=\"text-align: right;\">\n",
       "      <th></th>\n",
       "      <th>1</th>\n",
       "      <th>2</th>\n",
       "      <th>3</th>\n",
       "      <th>4</th>\n",
       "      <th>5</th>\n",
       "      <th>6</th>\n",
       "      <th>7</th>\n",
       "      <th>8</th>\n",
       "      <th>9</th>\n",
       "      <th>10</th>\n",
       "    </tr>\n",
       "  </thead>\n",
       "  <tbody>\n",
       "    <tr>\n",
       "      <th>Wikipédia</th>\n",
       "      <td>understanding(0.346)</td>\n",
       "      <td>expertise(0.387)</td>\n",
       "      <td>knowhow(0.428)</td>\n",
       "      <td>skills(0.465)</td>\n",
       "      <td>insight(0.483)</td>\n",
       "      <td>insights(0.484)</td>\n",
       "      <td>knowledge'(0.522)</td>\n",
       "      <td>experience(0.525)</td>\n",
       "      <td>intuition(0.528)</td>\n",
       "      <td>intellect(0.531)</td>\n",
       "    </tr>\n",
       "    <tr>\n",
       "      <th>Behavioural processes</th>\n",
       "      <td>understanding(0.033)</td>\n",
       "      <td>explanation(0.043)</td>\n",
       "      <td>constraints(0.044)</td>\n",
       "      <td>properties(0.044)</td>\n",
       "      <td>sense(0.045)</td>\n",
       "      <td>assessment(0.045)</td>\n",
       "      <td>representations(0.046)</td>\n",
       "      <td>consequences(0.048)</td>\n",
       "      <td>features(0.049)</td>\n",
       "      <td>inhibition(0.054)</td>\n",
       "    </tr>\n",
       "    <tr>\n",
       "      <th>Cognitive Science</th>\n",
       "      <td>structure(0.020)</td>\n",
       "      <td>behavior(0.025)</td>\n",
       "      <td>context(0.027)</td>\n",
       "      <td>reasoning(0.028)</td>\n",
       "      <td>information(0.030)</td>\n",
       "      <td>representation(0.032)</td>\n",
       "      <td>performance(0.036)</td>\n",
       "      <td>data(0.039)</td>\n",
       "      <td>process(0.039)</td>\n",
       "      <td>content(0.040)</td>\n",
       "    </tr>\n",
       "  </tbody>\n",
       "</table>\n",
       "</div>"
      ],
      "text/plain": [
       "                                         1                   2   \\\n",
       "Wikipédia              understanding(0.346)    expertise(0.387)   \n",
       "Behavioural processes  understanding(0.033)  explanation(0.043)   \n",
       "Cognitive Science          structure(0.020)     behavior(0.025)   \n",
       "\n",
       "                                       3                  4   \\\n",
       "Wikipédia                  knowhow(0.428)      skills(0.465)   \n",
       "Behavioural processes  constraints(0.044)  properties(0.044)   \n",
       "Cognitive Science          context(0.027)   reasoning(0.028)   \n",
       "\n",
       "                                       5                      6   \\\n",
       "Wikipédia                  insight(0.483)        insights(0.484)   \n",
       "Behavioural processes        sense(0.045)      assessment(0.045)   \n",
       "Cognitive Science      information(0.030)  representation(0.032)   \n",
       "\n",
       "                                           7                    8   \\\n",
       "Wikipédia                   knowledge'(0.522)    experience(0.525)   \n",
       "Behavioural processes  representations(0.046)  consequences(0.048)   \n",
       "Cognitive Science          performance(0.036)          data(0.039)   \n",
       "\n",
       "                                     9                  10  \n",
       "Wikipédia              intuition(0.528)   intellect(0.531)  \n",
       "Behavioural processes   features(0.049)  inhibition(0.054)  \n",
       "Cognitive Science        process(0.039)     content(0.040)  "
      ]
     },
     "execution_count": 169,
     "metadata": {},
     "output_type": "execute_result"
    }
   ],
   "source": [
    "df_closest_words('knowledge')"
   ]
  },
  {
   "cell_type": "code",
   "execution_count": 170,
   "metadata": {},
   "outputs": [
    {
     "data": {
      "text/html": [
       "<div>\n",
       "<style>\n",
       "    .dataframe thead tr:only-child th {\n",
       "        text-align: right;\n",
       "    }\n",
       "\n",
       "    .dataframe thead th {\n",
       "        text-align: left;\n",
       "    }\n",
       "\n",
       "    .dataframe tbody tr th {\n",
       "        vertical-align: top;\n",
       "    }\n",
       "</style>\n",
       "<table border=\"1\" class=\"dataframe\">\n",
       "  <thead>\n",
       "    <tr style=\"text-align: right;\">\n",
       "      <th></th>\n",
       "      <th>1</th>\n",
       "      <th>2</th>\n",
       "      <th>3</th>\n",
       "      <th>4</th>\n",
       "      <th>5</th>\n",
       "      <th>6</th>\n",
       "      <th>7</th>\n",
       "      <th>8</th>\n",
       "      <th>9</th>\n",
       "      <th>10</th>\n",
       "    </tr>\n",
       "  </thead>\n",
       "  <tbody>\n",
       "    <tr>\n",
       "      <th>Wikipédia</th>\n",
       "      <td>languages(0.092)</td>\n",
       "      <td>spoken(0.168)</td>\n",
       "      <td>dialects(0.170)</td>\n",
       "      <td>dialect(0.182)</td>\n",
       "      <td>speakers(0.185)</td>\n",
       "      <td>speak(0.210)</td>\n",
       "      <td>speaking(0.265)</td>\n",
       "      <td>fluent(0.298)</td>\n",
       "      <td>vocabulary(0.301)</td>\n",
       "      <td>fluently(0.321)</td>\n",
       "    </tr>\n",
       "    <tr>\n",
       "      <th>Behavioural processes</th>\n",
       "      <td>encoding(0.054)</td>\n",
       "      <td>assessment(0.061)</td>\n",
       "      <td>patterning(0.071)</td>\n",
       "      <td>motion(0.071)</td>\n",
       "      <td>status(0.071)</td>\n",
       "      <td>welfare(0.071)</td>\n",
       "      <td>knowledge(0.075)</td>\n",
       "      <td>allocation(0.076)</td>\n",
       "      <td>identity(0.077)</td>\n",
       "      <td>arousal(0.079)</td>\n",
       "    </tr>\n",
       "    <tr>\n",
       "      <th>Cognitive Science</th>\n",
       "      <td>memory(0.016)</td>\n",
       "      <td>learning(0.024)</td>\n",
       "      <td>speech(0.038)</td>\n",
       "      <td>control(0.045)</td>\n",
       "      <td>brain(0.046)</td>\n",
       "      <td>discourse(0.049)</td>\n",
       "      <td>action(0.050)</td>\n",
       "      <td>processing(0.051)</td>\n",
       "      <td>science(0.054)</td>\n",
       "      <td>training(0.054)</td>\n",
       "    </tr>\n",
       "  </tbody>\n",
       "</table>\n",
       "</div>"
      ],
      "text/plain": [
       "                                     1                  2                  3   \\\n",
       "Wikipédia              languages(0.092)      spoken(0.168)    dialects(0.170)   \n",
       "Behavioural processes   encoding(0.054)  assessment(0.061)  patterning(0.071)   \n",
       "Cognitive Science         memory(0.016)    learning(0.024)      speech(0.038)   \n",
       "\n",
       "                                   4                5                 6   \\\n",
       "Wikipédia              dialect(0.182)  speakers(0.185)      speak(0.210)   \n",
       "Behavioural processes   motion(0.071)    status(0.071)    welfare(0.071)   \n",
       "Cognitive Science      control(0.045)     brain(0.046)  discourse(0.049)   \n",
       "\n",
       "                                     7                  8                  9   \\\n",
       "Wikipédia               speaking(0.265)      fluent(0.298)  vocabulary(0.301)   \n",
       "Behavioural processes  knowledge(0.075)  allocation(0.076)    identity(0.077)   \n",
       "Cognitive Science         action(0.050)  processing(0.051)     science(0.054)   \n",
       "\n",
       "                                    10  \n",
       "Wikipédia              fluently(0.321)  \n",
       "Behavioural processes   arousal(0.079)  \n",
       "Cognitive Science      training(0.054)  "
      ]
     },
     "execution_count": 170,
     "metadata": {},
     "output_type": "execute_result"
    }
   ],
   "source": [
    "df_closest_words('language')"
   ]
  },
  {
   "cell_type": "markdown",
   "metadata": {},
   "source": [
    "## les duos de mots cibles les plus proche par similarité cosinus"
   ]
  },
  {
   "cell_type": "code",
   "execution_count": 218,
   "metadata": {
    "collapsed": true
   },
   "outputs": [],
   "source": [
    "import operator\n",
    "def cosine2(embedding) :\n",
    "    return sorted([[cosine(embedding[\"memory\"],embedding[\"association\"]),\"memory|association\"],\n",
    "           [cosine(embedding[\"memory\"],embedding[\"learning\"]),\"memory|learning\"],\n",
    "           [cosine(embedding[\"learning\"],embedding[\"association\"]),\"learning|association\"],\n",
    "           [cosine(embedding[\"knowledge\"],embedding[\"memory\"]),\"knowledge|memory\"],\n",
    "           [cosine(embedding[\"knowledge\"],embedding[\"learning\"]),\"knowledge|learning\"],\n",
    "           [cosine(embedding[\"knowledge\"],embedding[\"association\"]),\"knowledge|association\"],\n",
    "           [cosine(embedding[\"language\"],embedding[\"association\"]),\"language|association\"],\n",
    "           [cosine(embedding[\"language\"],embedding[\"learning\"]),\"language|learning\"],\n",
    "           [cosine(embedding[\"language\"],embedding[\"knowledge\"]),\"language|knowledge\"],\n",
    "           [cosine(embedding[\"language\"],embedding[\"memory\"]),\"language|memory\"]],key=operator.itemgetter(0))\n",
    "\n"
   ]
  },
  {
   "cell_type": "code",
   "execution_count": 220,
   "metadata": {},
   "outputs": [
    {
     "data": {
      "text/html": [
       "<div>\n",
       "<style>\n",
       "    .dataframe thead tr:only-child th {\n",
       "        text-align: right;\n",
       "    }\n",
       "\n",
       "    .dataframe thead th {\n",
       "        text-align: left;\n",
       "    }\n",
       "\n",
       "    .dataframe tbody tr th {\n",
       "        vertical-align: top;\n",
       "    }\n",
       "</style>\n",
       "<table border=\"1\" class=\"dataframe\">\n",
       "  <thead>\n",
       "    <tr style=\"text-align: right;\">\n",
       "      <th></th>\n",
       "      <th>1</th>\n",
       "      <th>2</th>\n",
       "      <th>3</th>\n",
       "      <th>4</th>\n",
       "      <th>5</th>\n",
       "      <th>6</th>\n",
       "      <th>7</th>\n",
       "      <th>8</th>\n",
       "      <th>9</th>\n",
       "      <th>10</th>\n",
       "    </tr>\n",
       "  </thead>\n",
       "  <tbody>\n",
       "    <tr>\n",
       "      <th>Wikipédia</th>\n",
       "      <td>knowledge|learning(0.542)</td>\n",
       "      <td>language|learning(0.767)</td>\n",
       "      <td>memory|learning(0.812)</td>\n",
       "      <td>knowledge|memory(0.846)</td>\n",
       "      <td>language|knowledge(0.872)</td>\n",
       "      <td>language|association(0.936)</td>\n",
       "      <td>knowledge|association(0.958)</td>\n",
       "      <td>language|memory(0.959)</td>\n",
       "      <td>memory|association(0.969)</td>\n",
       "      <td>learning|association(0.978)</td>\n",
       "    </tr>\n",
       "    <tr>\n",
       "      <th>Behavioural processes</th>\n",
       "      <td>memory|learning(0.007)</td>\n",
       "      <td>language|knowledge(0.075)</td>\n",
       "      <td>knowledge|association(0.083)</td>\n",
       "      <td>language|association(0.107)</td>\n",
       "      <td>language|memory(0.157)</td>\n",
       "      <td>knowledge|memory(0.171)</td>\n",
       "      <td>knowledge|learning(0.180)</td>\n",
       "      <td>memory|association(0.181)</td>\n",
       "      <td>language|learning(0.186)</td>\n",
       "      <td>learning|association(0.201)</td>\n",
       "    </tr>\n",
       "    <tr>\n",
       "      <th>Cognitive Science</th>\n",
       "      <td>memory|learning(0.015)</td>\n",
       "      <td>language|memory(0.016)</td>\n",
       "      <td>language|learning(0.024)</td>\n",
       "      <td>knowledge|learning(0.102)</td>\n",
       "      <td>knowledge|memory(0.105)</td>\n",
       "      <td>knowledge|association(0.109)</td>\n",
       "      <td>language|knowledge(0.114)</td>\n",
       "      <td>learning|association(0.193)</td>\n",
       "      <td>memory|association(0.194)</td>\n",
       "      <td>language|association(0.217)</td>\n",
       "    </tr>\n",
       "  </tbody>\n",
       "</table>\n",
       "</div>"
      ],
      "text/plain": [
       "                                              1                          2   \\\n",
       "Wikipédia              knowledge|learning(0.542)   language|learning(0.767)   \n",
       "Behavioural processes     memory|learning(0.007)  language|knowledge(0.075)   \n",
       "Cognitive Science         memory|learning(0.015)     language|memory(0.016)   \n",
       "\n",
       "                                                 3   \\\n",
       "Wikipédia                    memory|learning(0.812)   \n",
       "Behavioural processes  knowledge|association(0.083)   \n",
       "Cognitive Science          language|learning(0.024)   \n",
       "\n",
       "                                                4                          5   \\\n",
       "Wikipédia                  knowledge|memory(0.846)  language|knowledge(0.872)   \n",
       "Behavioural processes  language|association(0.107)     language|memory(0.157)   \n",
       "Cognitive Science        knowledge|learning(0.102)    knowledge|memory(0.105)   \n",
       "\n",
       "                                                 6   \\\n",
       "Wikipédia               language|association(0.936)   \n",
       "Behavioural processes       knowledge|memory(0.171)   \n",
       "Cognitive Science      knowledge|association(0.109)   \n",
       "\n",
       "                                                 7   \\\n",
       "Wikipédia              knowledge|association(0.958)   \n",
       "Behavioural processes     knowledge|learning(0.180)   \n",
       "Cognitive Science         language|knowledge(0.114)   \n",
       "\n",
       "                                                8                          9   \\\n",
       "Wikipédia                   language|memory(0.959)  memory|association(0.969)   \n",
       "Behavioural processes    memory|association(0.181)   language|learning(0.186)   \n",
       "Cognitive Science      learning|association(0.193)  memory|association(0.194)   \n",
       "\n",
       "                                                10  \n",
       "Wikipédia              learning|association(0.978)  \n",
       "Behavioural processes  learning|association(0.201)  \n",
       "Cognitive Science      language|association(0.217)  "
      ]
     },
     "execution_count": 220,
     "metadata": {},
     "output_type": "execute_result"
    }
   ],
   "source": [
    "wiki = cosine2(embeddingWiki)\n",
    "behav = cosine2(embeddingBehav)\n",
    "cogn = cosine2(embeddingCogn)\n",
    "\n",
    "wikiList = []\n",
    "behavList = []\n",
    "cognList = []\n",
    "for i in range(10):\n",
    "    wikiList.append(wiki[i][1] + '(' + str(wiki[i][0])[:5] + ')')\n",
    "    behavList.append(behav[i][1] + '(' + str(behav[i][0])[:5] + ')')\n",
    "    cognList.append(cogn[i][1] + '(' + str(cogn[i][0])[:5] + ')')\n",
    "\n",
    "\n",
    "\n",
    "ar = numpy.array([wikiList, behavList, cognList])\n",
    "df = pandas.DataFrame(ar, index = [\"Wikipédia\", \"Behavioural processes\", \"Cognitive Science\"], columns = range(11)[1:])\n",
    "df"
   ]
  },
  {
   "cell_type": "markdown",
   "metadata": {},
   "source": [
    "## les proportions de nos mots cibles dans les revues"
   ]
  },
  {
   "cell_type": "code",
   "execution_count": 234,
   "metadata": {},
   "outputs": [
    {
     "data": {
      "text/html": [
       "<div>\n",
       "<style>\n",
       "    .dataframe thead tr:only-child th {\n",
       "        text-align: right;\n",
       "    }\n",
       "\n",
       "    .dataframe thead th {\n",
       "        text-align: left;\n",
       "    }\n",
       "\n",
       "    .dataframe tbody tr th {\n",
       "        vertical-align: top;\n",
       "    }\n",
       "</style>\n",
       "<table border=\"1\" class=\"dataframe\">\n",
       "  <thead>\n",
       "    <tr style=\"text-align: right;\">\n",
       "      <th></th>\n",
       "      <th>Memory</th>\n",
       "      <th>Association</th>\n",
       "      <th>Learning</th>\n",
       "      <th>Knowledge</th>\n",
       "      <th>Language</th>\n",
       "    </tr>\n",
       "  </thead>\n",
       "  <tbody>\n",
       "    <tr>\n",
       "      <th>Wikipédia</th>\n",
       "      <td>82502</td>\n",
       "      <td>81374</td>\n",
       "      <td>80539</td>\n",
       "      <td>111143</td>\n",
       "      <td>283987</td>\n",
       "    </tr>\n",
       "    <tr>\n",
       "      <th>Behavioural processes</th>\n",
       "      <td>1650</td>\n",
       "      <td>537</td>\n",
       "      <td>3224</td>\n",
       "      <td>416</td>\n",
       "      <td>219</td>\n",
       "    </tr>\n",
       "    <tr>\n",
       "      <th>Cognitive Science</th>\n",
       "      <td>8573</td>\n",
       "      <td>714</td>\n",
       "      <td>11523</td>\n",
       "      <td>10064</td>\n",
       "      <td>8569</td>\n",
       "    </tr>\n",
       "  </tbody>\n",
       "</table>\n",
       "</div>"
      ],
      "text/plain": [
       "                       Memory  Association  Learning  Knowledge  Language\n",
       "Wikipédia               82502        81374     80539     111143    283987\n",
       "Behavioural processes    1650          537      3224        416       219\n",
       "Cognitive Science        8573          714     11523      10064      8569"
      ]
     },
     "execution_count": 234,
     "metadata": {},
     "output_type": "execute_result"
    }
   ],
   "source": [
    "\n",
    "\n",
    "wikiList = [corpusWiki.words_count[\"memory\"],corpusWiki.words_count[\"association\"],corpusWiki.words_count[\"learning\"],corpusWiki.words_count[\"knowledge\"],corpusWiki.words_count[\"language\"]]\n",
    "behavList = [corpusBehav.words_count[\"memory\"],corpusBehav.words_count[\"association\"],corpusBehav.words_count[\"learning\"],corpusBehav.words_count[\"knowledge\"],corpusBehav.words_count[\"language\"]]\n",
    "cognList = [corpusCogn.words_count[\"memory\"],corpusCogn.words_count[\"association\"],corpusCogn.words_count[\"learning\"],corpusCogn.words_count[\"knowledge\"],corpusCogn.words_count[\"language\"]]\n",
    "\n",
    "\n",
    "\n",
    "ar = numpy.array([wikiList, behavList, cognList])\n",
    "df = pandas.DataFrame(ar, index = [\"Wikipédia\", \"Behavioural processes\", \"Cognitive Science\"], columns = [\"Memory\",\"Association\",\"Learning\",\"Knowledge\",\"Language\"])\n",
    "df"
   ]
  },
  {
   "cell_type": "code",
   "execution_count": 232,
   "metadata": {},
   "outputs": [
    {
     "data": {
      "text/html": [
       "<div>\n",
       "<style>\n",
       "    .dataframe thead tr:only-child th {\n",
       "        text-align: right;\n",
       "    }\n",
       "\n",
       "    .dataframe thead th {\n",
       "        text-align: left;\n",
       "    }\n",
       "\n",
       "    .dataframe tbody tr th {\n",
       "        vertical-align: top;\n",
       "    }\n",
       "</style>\n",
       "<table border=\"1\" class=\"dataframe\">\n",
       "  <thead>\n",
       "    <tr style=\"text-align: right;\">\n",
       "      <th></th>\n",
       "      <th>Memory</th>\n",
       "      <th>Association</th>\n",
       "      <th>Learning</th>\n",
       "      <th>Knowledge</th>\n",
       "      <th>Language</th>\n",
       "    </tr>\n",
       "  </thead>\n",
       "  <tbody>\n",
       "    <tr>\n",
       "      <th>Wikipédia</th>\n",
       "      <td>0.004%</td>\n",
       "      <td>0.004%</td>\n",
       "      <td>0.004%</td>\n",
       "      <td>0.006%</td>\n",
       "      <td>0.016%</td>\n",
       "    </tr>\n",
       "    <tr>\n",
       "      <th>Behavioural processes</th>\n",
       "      <td>0.029%</td>\n",
       "      <td>0.009%</td>\n",
       "      <td>0.058%</td>\n",
       "      <td>0.007%</td>\n",
       "      <td>0.003%</td>\n",
       "    </tr>\n",
       "    <tr>\n",
       "      <th>Cognitive Science</th>\n",
       "      <td>0.089%</td>\n",
       "      <td>0.007%</td>\n",
       "      <td>0.120%</td>\n",
       "      <td>0.105%</td>\n",
       "      <td>0.089%</td>\n",
       "    </tr>\n",
       "  </tbody>\n",
       "</table>\n",
       "</div>"
      ],
      "text/plain": [
       "                       Memory Association Learning Knowledge Language\n",
       "Wikipédia              0.004%      0.004%   0.004%    0.006%   0.016%\n",
       "Behavioural processes  0.029%      0.009%   0.058%    0.007%   0.003%\n",
       "Cognitive Science      0.089%      0.007%   0.120%    0.105%   0.089%"
      ]
     },
     "execution_count": 232,
     "metadata": {},
     "output_type": "execute_result"
    }
   ],
   "source": [
    "nbWiki = 1688624802\n",
    "nbBehav = 5501840\n",
    "nbCogn = 9567998\n",
    "\n",
    "\n",
    "wikiList = [str(corpusWiki.words_count[\"memory\"]*100/nbWiki)[:5]+\"%\",str(corpusWiki.words_count[\"association\"]*100/nbWiki)[:5]+\"%\",str(corpusWiki.words_count[\"learning\"]*100/nbWiki)[:5]+\"%\",str(corpusWiki.words_count[\"knowledge\"]*100/nbWiki)[:5]+\"%\",str(corpusWiki.words_count[\"language\"]*100/nbWiki)[:5]+\"%\"]\n",
    "behavList = [str(corpusBehav.words_count[\"memory\"]*100/nbBehav)[:5]+\"%\",str(corpusBehav.words_count[\"association\"]*100/nbBehav)[:5]+\"%\",str(corpusBehav.words_count[\"learning\"]*100/nbBehav)[:5]+\"%\",str(corpusBehav.words_count[\"knowledge\"]*100/nbBehav)[:5]+\"%\",str(corpusBehav.words_count[\"language\"]*100/nbBehav)[:5]+\"%\"]\n",
    "cognList = [str(corpusCogn.words_count[\"memory\"]*100/nbCogn)[:5]+\"%\",str(corpusCogn.words_count[\"association\"]*100/nbCogn)[:5]+\"%\",str(corpusCogn.words_count[\"learning\"]*100/nbCogn)[:5]+\"%\",str(corpusCogn.words_count[\"knowledge\"]*100/nbCogn)[:5]+\"%\",str(corpusCogn.words_count[\"language\"]*100/nbCogn)[:5]+\"%\"]\n",
    "\n",
    "\n",
    "\n",
    "ar = numpy.array([wikiList, behavList, cognList])\n",
    "df = pandas.DataFrame(ar, index = [\"Wikipédia\", \"Behavioural processes\", \"Cognitive Science\"], columns = [\"Memory\",\"Association\",\"Learning\",\"Knowledge\",\"Language\"])\n",
    "df"
   ]
  },
  {
   "cell_type": "code",
   "execution_count": 1,
   "metadata": {},
   "outputs": [
    {
     "data": {
      "text/html": [
       "<style>.container { width:100% !important; }</style>"
      ],
      "text/plain": [
       "<IPython.core.display.HTML object>"
      ]
     },
     "metadata": {},
     "output_type": "display_data"
    }
   ],
   "source": [
    "from IPython.core.display import display, HTML\n",
    "display(HTML(\"<style>.container { width:100% !important; }</style>\"))"
   ]
  },
  {
   "cell_type": "code",
   "execution_count": null,
   "metadata": {
    "collapsed": true
   },
   "outputs": [],
   "source": []
  }
 ],
 "metadata": {
  "kernelspec": {
   "display_name": "Python 3",
   "language": "python",
   "name": "python3"
  },
  "language_info": {
   "codemirror_mode": {
    "name": "ipython",
    "version": 3
   },
   "file_extension": ".py",
   "mimetype": "text/x-python",
   "name": "python",
   "nbconvert_exporter": "python",
   "pygments_lexer": "ipython3",
   "version": "3.6.1"
  }
 },
 "nbformat": 4,
 "nbformat_minor": 2
}
